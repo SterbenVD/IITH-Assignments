{
 "cells": [
  {
   "attachments": {},
   "cell_type": "markdown",
   "metadata": {},
   "source": [
    "Steps taken:\n",
    "\n",
    "1) Learn all required concepts, LOL :)\n",
    "2) Import all the required libraries for this task\n",
    "3) Import the dataset\n",
    "4) Check the dataset for any incoherent data and clean it.\n",
    "5) Import the images from the dataset\n",
    "6) Split the data into two parts: Training and testing dataset\n",
    "7) Undersample the training dataset(Takes too much ram :( )\n",
    "8) Declare model. Train the model on the training dataset\n",
    "9) Run the model on testing dataset.\n",
    "10) Output the required metrics."
   ]
  },
  {
   "cell_type": "code",
   "execution_count": 1,
   "metadata": {},
   "outputs": [
    {
     "name": "stderr",
     "output_type": "stream",
     "text": [
      "2023-06-10 15:31:47.982370: I tensorflow/tsl/cuda/cudart_stub.cc:28] Could not find cuda drivers on your machine, GPU will not be used.\n",
      "2023-06-10 15:31:48.024998: I tensorflow/tsl/cuda/cudart_stub.cc:28] Could not find cuda drivers on your machine, GPU will not be used.\n",
      "2023-06-10 15:31:48.026033: I tensorflow/core/platform/cpu_feature_guard.cc:182] This TensorFlow binary is optimized to use available CPU instructions in performance-critical operations.\n",
      "To enable the following instructions: AVX2 FMA, in other operations, rebuild TensorFlow with the appropriate compiler flags.\n",
      "2023-06-10 15:31:49.011253: W tensorflow/compiler/tf2tensorrt/utils/py_utils.cc:38] TF-TRT Warning: Could not find TensorRT\n"
     ]
    }
   ],
   "source": [
    "import numpy as np\n",
    "import pandas as pd\n",
    "import matplotlib.pyplot as plt\n",
    "import seaborn as sb\n",
    "import os\n",
    "\n",
    "from sklearn.model_selection import train_test_split\n",
    "from sklearn.utils import shuffle\n",
    "from sklearn.metrics import classification_report\n",
    "from imblearn.under_sampling import RandomUnderSampler\n",
    "\n",
    "import cv2\n",
    "\n",
    "import tensorflow as tf\n",
    "from tensorflow.keras import Sequential, layers\n",
    "from tensorflow.keras.regularizers import L2\n",
    "from tensorflow.keras.preprocessing import image\n",
    "\n",
    "label_file = './Data/label.csv'\n",
    "images_loc = './Data/cells/'"
   ]
  },
  {
   "attachments": {},
   "cell_type": "markdown",
   "metadata": {},
   "source": [
    "Here, I have imported all libraries needed, and have some variables that I will use for importing data"
   ]
  },
  {
   "cell_type": "code",
   "execution_count": 2,
   "metadata": {},
   "outputs": [
    {
     "data": {
      "text/plain": [
       "<Axes: xlabel='class', ylabel='Count'>"
      ]
     },
     "execution_count": 2,
     "metadata": {},
     "output_type": "execute_result"
    },
    {
     "data": {
      "image/png": "[encoded data removed]",
      "text/plain": [
       "<Figure size 640x480 with 1 Axes>"
      ]
     },
     "metadata": {},
     "output_type": "display_data"
    }
   ],
   "source": [
    "cols = [\"name\", \"class\"]\n",
    "df = pd.read_csv(label_file, names = cols, header=None)\n",
    "\n",
    "present = pd.DataFrame(os.listdir(images_loc), columns = cols[0:1])\n",
    "df = df.merge(present,on=['name'])\n",
    "\n",
    "sb.histplot(df[\"class\"])"
   ]
  },
  {
   "attachments": {},
   "cell_type": "markdown",
   "metadata": {},
   "source": [
    "I have imported the data here using pandas, and have replaced the columns names with simple names. I also cleaned up the csv, removing all values not present in the cells folder."
   ]
  },
  {
   "cell_type": "code",
   "execution_count": 3,
   "metadata": {},
   "outputs": [],
   "source": [
    "def import_images(dataframe):\n",
    "    preimage = []\n",
    "    for index, row in dataframe.iterrows():\n",
    "        img = cv2.imread(images_loc+row['name'])\n",
    "        img = cv2.resize(img, (64, 64))\n",
    "        img = img / 255.0\n",
    "        img_array = image.img_to_array(img)\n",
    "        preimage.append(img_array)\n",
    "    \n",
    "    return np.array(preimage)\n",
    "\n",
    "images = import_images(df)\n",
    "classification = np.array(df['class']).astype(int) - 1"
   ]
  },
  {
   "attachments": {},
   "cell_type": "markdown",
   "metadata": {},
   "source": [
    "Here, I have imported all images using the link in the dataframe, and stored all in an numpy array, and the labels in another numpy array"
   ]
  },
  {
   "cell_type": "code",
   "execution_count": 4,
   "metadata": {},
   "outputs": [],
   "source": [
    "del(df)\n",
    "del(present)"
   ]
  },
  {
   "cell_type": "code",
   "execution_count": 5,
   "metadata": {},
   "outputs": [],
   "source": [
    "X, y = shuffle(images, classification)\n",
    "\n",
    "X_train, X_test, y_train, y_test = train_test_split(X, y, test_size=0.2)"
   ]
  },
  {
   "attachments": {},
   "cell_type": "markdown",
   "metadata": {},
   "source": [
    "Here I have split the dataset into training and testing dataset"
   ]
  },
  {
   "cell_type": "code",
   "execution_count": 6,
   "metadata": {},
   "outputs": [],
   "source": [
    "del(X)\n",
    "del(y)\n",
    "del(images)\n",
    "del(classification)"
   ]
  },
  {
   "cell_type": "code",
   "execution_count": 7,
   "metadata": {},
   "outputs": [
    {
     "data": {
      "text/plain": [
       "<Axes: ylabel='Count'>"
      ]
     },
     "execution_count": 7,
     "metadata": {},
     "output_type": "execute_result"
    },
    {
     "data": {
      "image/png": "[encoded data removed]",
      "text/plain": [
       "<Figure size 640x480 with 1 Axes>"
      ]
     },
     "metadata": {},
     "output_type": "display_data"
    }
   ],
   "source": [
    "\n",
    "def scale_dataset(images, classi):\n",
    "    x_dim = [images.shape[0], images.shape[1], images.shape[2], images.shape[3]]\n",
    "    ros = RandomUnderSampler()\n",
    "    X, Y = ros.fit_resample(images.reshape(images.shape[0], x_dim[1]*x_dim[2]*x_dim[3]), classi)\n",
    "    X = X.reshape(X.shape[0], x_dim[1], x_dim[2], x_dim[3])\n",
    "    return X, Y\n",
    "\n",
    "X_train, y_train = scale_dataset(X_train, y_train)\n",
    "sb.histplot(y_train)"
   ]
  },
  {
   "attachments": {},
   "cell_type": "markdown",
   "metadata": {},
   "source": [
    "I have undersampled the training dataset in order to have equal representation among the classes. (And to not crash my laptop :) )"
   ]
  },
  {
   "cell_type": "code",
   "execution_count": 8,
   "metadata": {},
   "outputs": [],
   "source": [
    "model = Sequential([\n",
    "    layers.Conv2D(32, (3, 3), kernel_regularizer=L2(0.001),\n",
    "                  activation='relu', input_shape=(64, 64, 3)),\n",
    "    layers.MaxPool2D((2, 2)),\n",
    "    layers.Conv2D(16, (3, 3), kernel_regularizer=L2(0.001), activation='relu'),\n",
    "    layers.MaxPool2D((2, 2)),\n",
    "    layers.Flatten(),\n",
    "    layers.Dense(24, activation='relu', kernel_regularizer=L2(0.001)),\n",
    "    # layers.Dense(12, activation='relu', kernel_regularizer=L2(0.001)),\n",
    "    layers.Dense(6, activation='sigmoid')])\n",
    "\n",
    "model.compile(optimizer=tf.keras.optimizers.Adam(0.001),\n",
    "              loss='sparse_categorical_crossentropy', metrics=['accuracy'])"
   ]
  },
  {
   "attachments": {},
   "cell_type": "markdown",
   "metadata": {},
   "source": [
    "Here is the model definition. "
   ]
  },
  {
   "cell_type": "code",
   "execution_count": 9,
   "metadata": {},
   "outputs": [
    {
     "name": "stdout",
     "output_type": "stream",
     "text": [
      "Epoch 1/20\n",
      "351/351 [==============================] - 16s 45ms/step - loss: 1.3106 - accuracy: 0.4907\n",
      "Epoch 2/20\n",
      "351/351 [==============================] - 15s 44ms/step - loss: 1.0009 - accuracy: 0.6257\n",
      "Epoch 3/20\n",
      "351/351 [==============================] - 16s 45ms/step - loss: 0.8846 - accuracy: 0.6852\n",
      "Epoch 4/20\n",
      "351/351 [==============================] - 16s 45ms/step - loss: 0.8148 - accuracy: 0.7230\n",
      "Epoch 5/20\n",
      "351/351 [==============================] - 16s 46ms/step - loss: 0.7680 - accuracy: 0.7452\n",
      "Epoch 6/20\n",
      "351/351 [==============================] - 16s 45ms/step - loss: 0.7509 - accuracy: 0.7460\n",
      "Epoch 7/20\n",
      "351/351 [==============================] - 16s 45ms/step - loss: 0.7189 - accuracy: 0.7622\n",
      "Epoch 8/20\n",
      "351/351 [==============================] - 16s 46ms/step - loss: 0.7023 - accuracy: 0.7673\n",
      "Epoch 9/20\n",
      "351/351 [==============================] - 14s 40ms/step - loss: 0.6907 - accuracy: 0.7716\n",
      "Epoch 10/20\n",
      "351/351 [==============================] - 14s 41ms/step - loss: 0.6730 - accuracy: 0.7834\n",
      "Epoch 11/20\n",
      "351/351 [==============================] - 16s 47ms/step - loss: 0.6519 - accuracy: 0.7916\n",
      "Epoch 12/20\n",
      "351/351 [==============================] - 16s 46ms/step - loss: 0.6433 - accuracy: 0.7933\n",
      "Epoch 13/20\n",
      "351/351 [==============================] - 16s 46ms/step - loss: 0.6362 - accuracy: 0.7976\n",
      "Epoch 14/20\n",
      "351/351 [==============================] - 16s 45ms/step - loss: 0.6292 - accuracy: 0.8014\n",
      "Epoch 15/20\n",
      "351/351 [==============================] - 16s 45ms/step - loss: 0.6051 - accuracy: 0.8114\n",
      "Epoch 16/20\n",
      "351/351 [==============================] - 15s 44ms/step - loss: 0.6121 - accuracy: 0.8121\n",
      "Epoch 17/20\n",
      "351/351 [==============================] - 14s 39ms/step - loss: 0.6003 - accuracy: 0.8170\n",
      "Epoch 18/20\n",
      "351/351 [==============================] - 14s 41ms/step - loss: 0.5850 - accuracy: 0.8250\n",
      "Epoch 19/20\n",
      "351/351 [==============================] - 14s 41ms/step - loss: 0.5712 - accuracy: 0.8290\n",
      "Epoch 20/20\n",
      "351/351 [==============================] - 15s 42ms/step - loss: 0.5683 - accuracy: 0.8346\n"
     ]
    },
    {
     "data": {
      "text/plain": [
       "<keras.callbacks.History at 0x7f34b58440d0>"
      ]
     },
     "execution_count": 9,
     "metadata": {},
     "output_type": "execute_result"
    }
   ],
   "source": [
    "model.fit(X_train, y_train, epochs=20, batch_size=32)"
   ]
  },
  {
   "cell_type": "code",
   "execution_count": 10,
   "metadata": {},
   "outputs": [
    {
     "name": "stdout",
     "output_type": "stream",
     "text": [
      "397/397 [==============================] - 3s 6ms/step\n"
     ]
    },
    {
     "data": {
      "text/plain": [
       "array([[1.7037783e-15, 9.9800104e-01, 9.9999905e-01, 9.9993485e-01,\n",
       "        1.3716461e-11, 1.1169497e-07],\n",
       "       [2.3311799e-07, 9.8213643e-01, 8.9436781e-01, 9.9478012e-01,\n",
       "        1.3103443e-06, 2.9206745e-07],\n",
       "       [4.9461697e-08, 2.9306671e-01, 9.9173754e-01, 9.9810374e-01,\n",
       "        3.2460369e-07, 1.1566504e-03],\n",
       "       ...,\n",
       "       [6.7008277e-06, 9.9999976e-01, 9.9789488e-01, 9.7593766e-01,\n",
       "        1.4810248e-08, 5.2243888e-18],\n",
       "       [1.8453924e-02, 3.3931581e-03, 3.7668847e-02, 2.0049939e-01,\n",
       "        6.2551659e-01, 9.8667538e-01],\n",
       "       [1.0377428e-12, 6.4764696e-01, 9.9476087e-01, 9.9990058e-01,\n",
       "        2.3141508e-11, 1.9226365e-03]], dtype=float32)"
      ]
     },
     "execution_count": 10,
     "metadata": {},
     "output_type": "execute_result"
    }
   ],
   "source": [
    "y_pred = model.predict(X_test)\n",
    "y_pred"
   ]
  },
  {
   "attachments": {},
   "cell_type": "markdown",
   "metadata": {},
   "source": [
    "Here, I have predicted the values for the testing dataset."
   ]
  },
  {
   "cell_type": "code",
   "execution_count": 11,
   "metadata": {},
   "outputs": [
    {
     "name": "stdout",
     "output_type": "stream",
     "text": [
      "              precision    recall  f1-score   support\n",
      "\n",
      "           0       0.77      0.83      0.80      2969\n",
      "           1       0.78      0.57      0.66      2853\n",
      "           2       0.82      0.81      0.81      2640\n",
      "           3       0.81      0.87      0.84      2785\n",
      "           4       0.63      0.79      0.70       966\n",
      "           5       0.71      0.90      0.79       476\n",
      "\n",
      "    accuracy                           0.77     12689\n",
      "   macro avg       0.75      0.79      0.77     12689\n",
      "weighted avg       0.78      0.77      0.77     12689\n",
      "\n"
     ]
    }
   ],
   "source": [
    "y_predict = []\n",
    "for i in range(len(y_pred)):\n",
    "    y_predict.append(np.argmax(y_pred[i]))\n",
    "\n",
    "y_predict = np.array(y_predict)\n",
    "\n",
    "print(classification_report(y_test,y_predict))"
   ]
  },
  {
   "attachments": {},
   "cell_type": "markdown",
   "metadata": {},
   "source": [
    "Here, I have printed the classification report."
   ]
  }
 ],
 "metadata": {
  "kernelspec": {
   "display_name": "Python 3",
   "language": "python",
   "name": "python3"
  },
  "language_info": {
   "codemirror_mode": {
    "name": "ipython",
    "version": 3
   },
   "file_extension": ".py",
   "mimetype": "text/x-python",
   "name": "python",
   "nbconvert_exporter": "python",
   "pygments_lexer": "ipython3",
   "version": "3.11.3"
  },
  "orig_nbformat": 4
 },
 "nbformat": 4,
 "nbformat_minor": 2
}
